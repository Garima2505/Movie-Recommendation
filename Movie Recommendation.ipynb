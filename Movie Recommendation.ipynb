{
 "cells": [
  {
   "cell_type": "markdown",
   "metadata": {
    "id": "f-3wIDoUX1ox"
   },
   "source": [
    "# Low-Rank Approximation for Movie Recommendations\n",
    "\n",
    "A common application of low-rank approximation is for recommender systems. "
   ]
  },
  {
   "cell_type": "markdown",
   "metadata": {
    "id": "1QXA8rXeX1ox"
   },
   "source": [
    "## Loading the MovieLens Dataset\n",
    "\n",
    "We first load some common packages."
   ]
  },
  {
   "cell_type": "code",
   "execution_count": 1,
   "metadata": {
    "id": "WM0vp26ZX1oy"
   },
   "outputs": [],
   "source": [
    "import pandas as pd\n",
    "import numpy as np\n",
    "import matplotlib.pyplot as plt"
   ]
  },
  {
   "cell_type": "markdown",
   "metadata": {
    "id": "iFO8FU5zX1oy"
   },
   "source": [
    "[GroupLens](https://grouplens.org/) is a research organization at the University of Minnesota that has done extensive work in recommendation systems among other topics.  They have excellent datasets on movie recommendations as part of their [MovieLens project](https://movielens.org/).  Here the dataset is relatively small, `Movielens 1m` that has 1 million ratings.\n",
    "\n",
    "To get the data, go to the webpage:\n",
    "\n",
    "https://grouplens.org/datasets/movielens/latest/"
   ]
  },
  {
   "cell_type": "code",
   "execution_count": 2,
   "metadata": {
    "colab": {
     "base_uri": "https://localhost:8080/",
     "height": 151,
     "referenced_widgets": [
      "48acbcbecef1472e8a5ba6321e0528a5",
      "73f8fce374304b90b5b96818114151cd",
      "6393b20cbfa0408dbfdcebd46308e0bf",
      "253bd0364b974c53a727a3920b2575cd",
      "dba0613c674d47f08e8eac02f2166b8d",
      "29662948164d47cc8e717c581139a695",
      "47f85d0bbfda478bb2123f5c6bd10006",
      "45354805db814e05a289cad639e26a1a"
     ]
    },
    "id": "zb3bevFqX1oy",
    "outputId": "fdb2cf9d-8a26-4a7a-e9fc-2a6245efe58d"
   },
   "outputs": [
    {
     "name": "stdout",
     "output_type": "stream",
     "text": [
      "Files ml-1m/ratings.dat and ml-1m/movies.dat already downloaded\n"
     ]
    }
   ],
   "source": [
    "import tqdm\n",
    "import requests\n",
    "import os\n",
    "import zipfile\n",
    "\n",
    "# Set the files names for movies and ratings files\n",
    "ml_dir = 'ml-1m'\n",
    "ratings_fn = os.path.join(ml_dir,'ratings.dat')\n",
    "movies_fn = os.path.join(ml_dir,'movies.dat')\n",
    "\n",
    "def download_file(src_url, dst_fn):\n",
    "    \n",
    "    if os.path.exists(dst_fn):\n",
    "        print('File %s already exists' % dst_fn)\n",
    "        return\n",
    "    \n",
    "    print('Downloading %s' % dst_fn)\n",
    "    \n",
    "    # Streaming, so we can iterate over the response.\n",
    "    r = requests.get(src_url, stream=True)\n",
    "\n",
    "    # Total size in MB.\n",
    "    total_size = int(r.headers.get('content-length', 0)); \n",
    "    block_size = 1024\n",
    "    wrote = 0 \n",
    "    with open(dst_fn, 'wb') as f:\n",
    "        with tqdm.tqdm_notebook(total=total_size//block_size, unit='kB', \n",
    "                           unit_scale=True, unit_divisor=1024) as pbar:\n",
    "            for data in r.iter_content(block_size):\n",
    "                wrote = wrote + len(data)\n",
    "                pbar.update(1)\n",
    "                f.write(data)\n",
    "    if total_size != 0 and wrote != total_size:\n",
    "        print(\"ERROR, something went wrong\") \n",
    "\n",
    "# Test if all files are downloaded\n",
    "files_exists = False\n",
    "if os.path.exists(ml_dir):\n",
    "    if os.path.exists(ratings_fn) and os.path.exists(movies_fn):\n",
    "        files_exists = True\n",
    "\n",
    "if files_exists:\n",
    "    print('Files %s and %s already downloaded' % (ratings_fn, movies_fn))\n",
    "\n",
    "else:\n",
    "    # First download the zip file if needed\n",
    "    src_url = 'http://files.grouplens.org/datasets/movielens/ml-1m.zip'\n",
    "    dst_fn = 'ml-1m.zip'\n",
    "    download_file(src_url, dst_fn)\n",
    "    \n",
    "    # Then, unzip the file\n",
    "    print('Unzipping %s...' % dst_fn)\n",
    "    zip_ref = zipfile.ZipFile(dst_fn, 'r')\n",
    "    zip_ref.extractall('.')\n",
    "    zip_ref.close()\n",
    "    print('Unzip completed')"
   ]
  },
  {
   "cell_type": "markdown",
   "metadata": {
    "id": "1Nb34tVzX1oz"
   },
   "source": [
    "Read the movies files with the `read_csv` command.  Print the first 5 entries of the dataframe.  You will see that the file has a list of movies.  Each movie has a `movieId` and `title`."
   ]
  },
  {
   "cell_type": "code",
   "execution_count": 3,
   "metadata": {
    "colab": {
     "base_uri": "https://localhost:8080/",
     "height": 204
    },
    "id": "c9AjgBvNX1oz",
    "outputId": "844155e5-e16b-4f65-8b36-38d8fc0071d0"
   },
   "outputs": [
    {
     "data": {
      "text/html": [
       "<div>\n",
       "<style scoped>\n",
       "    .dataframe tbody tr th:only-of-type {\n",
       "        vertical-align: middle;\n",
       "    }\n",
       "\n",
       "    .dataframe tbody tr th {\n",
       "        vertical-align: top;\n",
       "    }\n",
       "\n",
       "    .dataframe thead th {\n",
       "        text-align: right;\n",
       "    }\n",
       "</style>\n",
       "<table border=\"1\" class=\"dataframe\">\n",
       "  <thead>\n",
       "    <tr style=\"text-align: right;\">\n",
       "      <th></th>\n",
       "      <th>movieId</th>\n",
       "      <th>title</th>\n",
       "      <th>genre</th>\n",
       "    </tr>\n",
       "  </thead>\n",
       "  <tbody>\n",
       "    <tr>\n",
       "      <th>0</th>\n",
       "      <td>1</td>\n",
       "      <td>Toy Story (1995)</td>\n",
       "      <td>Animation|Children's|Comedy</td>\n",
       "    </tr>\n",
       "    <tr>\n",
       "      <th>1</th>\n",
       "      <td>2</td>\n",
       "      <td>Jumanji (1995)</td>\n",
       "      <td>Adventure|Children's|Fantasy</td>\n",
       "    </tr>\n",
       "    <tr>\n",
       "      <th>2</th>\n",
       "      <td>3</td>\n",
       "      <td>Grumpier Old Men (1995)</td>\n",
       "      <td>Comedy|Romance</td>\n",
       "    </tr>\n",
       "    <tr>\n",
       "      <th>3</th>\n",
       "      <td>4</td>\n",
       "      <td>Waiting to Exhale (1995)</td>\n",
       "      <td>Comedy|Drama</td>\n",
       "    </tr>\n",
       "    <tr>\n",
       "      <th>4</th>\n",
       "      <td>5</td>\n",
       "      <td>Father of the Bride Part II (1995)</td>\n",
       "      <td>Comedy</td>\n",
       "    </tr>\n",
       "  </tbody>\n",
       "</table>\n",
       "</div>"
      ],
      "text/plain": [
       "   movieId                               title                         genre\n",
       "0        1                    Toy Story (1995)   Animation|Children's|Comedy\n",
       "1        2                      Jumanji (1995)  Adventure|Children's|Fantasy\n",
       "2        3             Grumpier Old Men (1995)                Comedy|Romance\n",
       "3        4            Waiting to Exhale (1995)                  Comedy|Drama\n",
       "4        5  Father of the Bride Part II (1995)                        Comedy"
      ]
     },
     "execution_count": 3,
     "metadata": {},
     "output_type": "execute_result"
    }
   ],
   "source": [
    "# Read the movies \n",
    "import os\n",
    "movies = pd.read_csv(movies_fn, sep='::', engine='python', encoding='latin-1', names=['movieId', 'title', 'genre'])\n",
    "\n",
    "# Use the movies.head() to display the first 5 entries\n",
    "movies.head()"
   ]
  },
  {
   "cell_type": "markdown",
   "metadata": {
    "id": "DjEDlcdJX1oz"
   },
   "source": [
    "Extracted the following columns from the `movies` dataframe:\n",
    "*  Extracted the `movieId` column, convert to an `np.array` and store in `movie_ids`\n",
    "*  Extracted the `title` column, convert to a list (using `.tolist()`) and store in `titles`"
   ]
  },
  {
   "cell_type": "code",
   "execution_count": 4,
   "metadata": {
    "id": "XNwAmiWUX1o0"
   },
   "outputs": [],
   "source": [
    "movie_ids = np.array(movies['movieId'], dtype=int)\n",
    "titles = movies['title'].tolist()"
   ]
  },
  {
   "cell_type": "markdown",
   "metadata": {
    "id": "caE8LTWYX1o0"
   },
   "source": [
    "The following function returns the string of a movie title, given its movie id."
   ]
  },
  {
   "cell_type": "code",
   "execution_count": 5,
   "metadata": {
    "id": "_fgR96fvX1o0"
   },
   "outputs": [],
   "source": [
    "def get_movie_title(movie_id):\n",
    "    I = np.where(movie_ids == movie_id)[0]\n",
    "    if len(I) == 0:\n",
    "        return 'unknown'\n",
    "    else:\n",
    "        return titles[I[0]]"
   ]
  },
  {
   "cell_type": "markdown",
   "metadata": {
    "id": "63KGvoJPX1o0"
   },
   "source": [
    "Load the `ratings.dat` file into a `pandas` dataframe `ratings`.  Use the `head` method to print the first five rows of the dataframe.  This is a large file, so it may take a minute to read in."
   ]
  },
  {
   "cell_type": "code",
   "execution_count": 6,
   "metadata": {
    "colab": {
     "base_uri": "https://localhost:8080/",
     "height": 204
    },
    "id": "0_tXWJSiX1o0",
    "outputId": "39b3e41a-d470-47dc-e6a4-344e52579419"
   },
   "outputs": [
    {
     "data": {
      "text/html": [
       "<div>\n",
       "<style scoped>\n",
       "    .dataframe tbody tr th:only-of-type {\n",
       "        vertical-align: middle;\n",
       "    }\n",
       "\n",
       "    .dataframe tbody tr th {\n",
       "        vertical-align: top;\n",
       "    }\n",
       "\n",
       "    .dataframe thead th {\n",
       "        text-align: right;\n",
       "    }\n",
       "</style>\n",
       "<table border=\"1\" class=\"dataframe\">\n",
       "  <thead>\n",
       "    <tr style=\"text-align: right;\">\n",
       "      <th></th>\n",
       "      <th>userId</th>\n",
       "      <th>movieId</th>\n",
       "      <th>rating</th>\n",
       "      <th>timestamp</th>\n",
       "    </tr>\n",
       "  </thead>\n",
       "  <tbody>\n",
       "    <tr>\n",
       "      <th>0</th>\n",
       "      <td>1</td>\n",
       "      <td>1193</td>\n",
       "      <td>5</td>\n",
       "      <td>978300760</td>\n",
       "    </tr>\n",
       "    <tr>\n",
       "      <th>1</th>\n",
       "      <td>1</td>\n",
       "      <td>661</td>\n",
       "      <td>3</td>\n",
       "      <td>978302109</td>\n",
       "    </tr>\n",
       "    <tr>\n",
       "      <th>2</th>\n",
       "      <td>1</td>\n",
       "      <td>914</td>\n",
       "      <td>3</td>\n",
       "      <td>978301968</td>\n",
       "    </tr>\n",
       "    <tr>\n",
       "      <th>3</th>\n",
       "      <td>1</td>\n",
       "      <td>3408</td>\n",
       "      <td>4</td>\n",
       "      <td>978300275</td>\n",
       "    </tr>\n",
       "    <tr>\n",
       "      <th>4</th>\n",
       "      <td>1</td>\n",
       "      <td>2355</td>\n",
       "      <td>5</td>\n",
       "      <td>978824291</td>\n",
       "    </tr>\n",
       "  </tbody>\n",
       "</table>\n",
       "</div>"
      ],
      "text/plain": [
       "   userId  movieId  rating  timestamp\n",
       "0       1     1193       5  978300760\n",
       "1       1      661       3  978302109\n",
       "2       1      914       3  978301968\n",
       "3       1     3408       4  978300275\n",
       "4       1     2355       5  978824291"
      ]
     },
     "execution_count": 6,
     "metadata": {},
     "output_type": "execute_result"
    }
   ],
   "source": [
    "ratings = pd.read_csv(ratings_fn, sep='::', engine='python', encoding='latin-1', names=['userId', 'movieId', 'rating', 'timestamp'])\n",
    "ratings.head()"
   ]
  },
  {
   "cell_type": "markdown",
   "metadata": {
    "id": "ujBEW2RYX1o0"
   },
   "source": [
    "Extracted three columns from the `ratings` dataframe:\n",
    "\n",
    "* Set `user` to `ratings['userId']`,\n",
    "* Set `movie` to `ratings['movieId']`\n",
    "* Set `y` to `ratings['rating']`\n",
    "\n",
    "Convert to each to an `np.array`.  Print:\n",
    "\n",
    "* Total number of movies (the maximum movie index)\n",
    "* Total number of users\n",
    "* Total number of ratings\n",
    "* The average fraction of movies rated per user\n",
    "\n",
    "You should see that only a small fraction of the movies are rated by each user."
   ]
  },
  {
   "cell_type": "code",
   "execution_count": 7,
   "metadata": {
    "colab": {
     "base_uri": "https://localhost:8080/"
    },
    "id": "mGaXr9YHX1o0",
    "outputId": "c599c916-cb40-4f31-85a9-b1d1a8734129"
   },
   "outputs": [
    {
     "name": "stdout",
     "output_type": "stream",
     "text": [
      "Number of movies = 3953\n",
      "Number of users = 6041\n",
      "Number of samples = 1000209\n",
      "average fraction of movies rated per user = 0.04188467095557036\n"
     ]
    }
   ],
   "source": [
    "user = np.array(ratings['userId'])\n",
    "movie = np.array(ratings['movieId'])\n",
    "y = np.array(ratings['rating'])\n",
    "\n",
    "num_users = np.max(user)+1\n",
    "num_movie = np.max(movie)+1\n",
    "num_samp = movie.shape[0]\n",
    "\n",
    "print(f'Number of movies = {num_movie}')\n",
    "print(f'Number of users = {num_users}')\n",
    "print(f'Number of samples = {num_samp}')\n",
    "print(f'average fraction of movies rated per user = {num_samp/num_movie/num_users}')"
   ]
  },
  {
   "cell_type": "markdown",
   "metadata": {
    "id": "a4aqugY0X1o0"
   },
   "source": [
    "Our goal will be to predict the rating `y` from the indices `movie` and `user`.  We need to split the data into training and test of the form:\n",
    "\n",
    "* Training data:  `Xtr = [usertr, movietr]` and `ytr` for approximately 75% of the samples.\n",
    "* Test data:  `Xts = [userts, moviets]` and `yts` for approximately 25% of the samples."
   ]
  },
  {
   "cell_type": "code",
   "execution_count": 8,
   "metadata": {
    "id": "UyzOHhWtX1o0"
   },
   "outputs": [],
   "source": [
    "ntr = int(num_samp * 0.75)\n",
    "I = np.random.permutation(num_samp)\n",
    "Xtr = [user[I[:ntr]], movie[I[:ntr]]]\n",
    "Xts = [user[I[ntr:]], movie[I[ntr:]]]\n",
    "ytr = y[I[:ntr]]\n",
    "yts = y[I[ntr:]]"
   ]
  },
  {
   "cell_type": "markdown",
   "metadata": {
    "id": "7-d51VeZX1o0"
   },
   "source": [
    "## Simple Rating Prediction Based on Average Rating\n",
    "\n",
    "First, compute the average movie rating across all movies in the training data set."
   ]
  },
  {
   "cell_type": "code",
   "execution_count": 9,
   "metadata": {
    "colab": {
     "base_uri": "https://localhost:8080/"
    },
    "id": "kktdVt1PX1o0",
    "outputId": "7b3c22c9-6566-4ca8-8a3f-d8b69086942a"
   },
   "outputs": [
    {
     "name": "stdout",
     "output_type": "stream",
     "text": [
      "Average rating =    3.58\n"
     ]
    }
   ],
   "source": [
    "avg_rate = np.mean(ytr)\n",
    "print('Average rating = %7.2f'% avg_rate)"
   ]
  },
  {
   "cell_type": "markdown",
   "metadata": {
    "id": "j2WQyGkWX1o0"
   },
   "source": [
    "Next, find the average rating per movie id. For each movie id, `i` compute `ymean[i]`, the average rating for that movie in the training data set and `ycnt[i]`, the number of ratings the movie had.  If `ycnt[i]==0`, set `ymean[i]=y0`, where `y0` is the average overall rating. "
   ]
  },
  {
   "cell_type": "code",
   "execution_count": 10,
   "metadata": {
    "colab": {
     "base_uri": "https://localhost:8080/"
    },
    "id": "MeuMDDJYX1o0",
    "outputId": "68804369-c627-4e45-bca6-90e310dbd7b1"
   },
   "outputs": [
    {
     "name": "stderr",
     "output_type": "stream",
     "text": [
      "100%|██████████| 750156/750156 [00:04<00:00, 187112.50it/s]\n"
     ]
    }
   ],
   "source": [
    "ycnt = np.zeros(num_movie)\n",
    "usertr, movietr = Xtr\n",
    "ymean = np.tile(avg_rate, num_movie)\n",
    "\n",
    "ntr = len(ytr)\n",
    "\n",
    "with tqdm.tqdm(total = ntr) as pbar:\n",
    "  for m, r in zip(movietr, ytr):\n",
    "    ycnt[m] +=1\n",
    "    ymean[m] = 1/ycnt[m]*r + (1-1/ycnt[m])*ymean[m]\n",
    "    pbar.update(1)"
   ]
  },
  {
   "cell_type": "markdown",
   "metadata": {
    "id": "wcyvH0k_X1o0"
   },
   "source": [
    "Print all the movies that had an average rating over 4.8.  Print their titles, the average rating and the number of ratings they had.  You will see that most of the movies with very high ratings had very few ratings."
   ]
  },
  {
   "cell_type": "code",
   "execution_count": 11,
   "metadata": {
    "colab": {
     "base_uri": "https://localhost:8080/"
    },
    "id": "vuKlIJOfX1o0",
    "outputId": "e7b97d2e-ed16-4883-bd1e-a909c5ba6f04"
   },
   "outputs": [
    {
     "name": "stdout",
     "output_type": "stream",
     "text": [
      "                           Angela (1995) Rating =  5.00 Number of Rating=    1\n",
      "                  Foreign Student (1994) Rating =  5.00 Number of Rating=    1\n",
      "      Gate of Heavenly Peace, The (1995) Rating =  5.00 Number of Rating=    3\n",
      "                Year of the Horse (1997) Rating =  5.00 Number of Rating=    1\n",
      "Midaq Alley (Callejón de los milagros, El) (1995) Rating =  5.00 Number of Rating=    1\n",
      "Paralyzing Fear: The Story of Polio in America, A (1998) Rating =  5.00 Number of Rating=    1\n",
      "                 Follow the Bitch (1998) Rating =  5.00 Number of Rating=    1\n",
      "                 Apple, The (Sib) (1998) Rating =  4.80 Number of Rating=    5\n",
      "     I Am Cuba (Soy Cuba/Ya Kuba) (1964) Rating =  5.00 Number of Rating=    4\n",
      "                        Baby, The (1973) Rating =  5.00 Number of Rating=    1\n",
      "                  Song of Freedom (1936) Rating =  5.00 Number of Rating=    1\n",
      "                One Little Indian (1973) Rating =  5.00 Number of Rating=    1\n",
      "                            Lured (1947) Rating =  5.00 Number of Rating=    1\n"
     ]
    }
   ],
   "source": [
    "I = np.where(ymean >= 4.8)[0]\n",
    "for i in I:\n",
    "  print('%40s Rating = %5.2f Number of Rating=%5d' % (get_movie_title(i), ymean[i], ycnt[i]))"
   ]
  },
  {
   "cell_type": "markdown",
   "metadata": {
    "id": "BVdKqv1QX1o0"
   },
   "source": [
    "Now, for each `i` in the test data set, compute `yhat[i]` to be the mean rating for the movie in rating `i`.  Find the average value `|yhat[i]-yts[i]|`.  This is called the *mean absolute error* or MAE and is a common metric in evaluating recommendation predictions.  If you did everything correctly, you should get an MAE ~= 0.78.  That means that simply using the average movie rating by users will predict the rating of another user within 0.78 on average."
   ]
  },
  {
   "cell_type": "code",
   "execution_count": 12,
   "metadata": {
    "colab": {
     "base_uri": "https://localhost:8080/"
    },
    "id": "KnpW3fpVX1o0",
    "outputId": "2402408d-3641-4195-ea60-393e3202b992"
   },
   "outputs": [
    {
     "name": "stdout",
     "output_type": "stream",
     "text": [
      "MAE =   7.8224e-01\n"
     ]
    }
   ],
   "source": [
    "userts, moviets = Xts\n",
    "yhat = ymean[moviets]\n",
    "mae = np.mean(np.abs(yhat-yts))\n",
    "print('MAE = %12.4e' % mae)"
   ]
  },
  {
   "cell_type": "markdown",
   "metadata": {
    "id": "Qc4pmwuZX1o0"
   },
   "source": [
    "## Building a Neural Network Recommender\n",
    "We now build a neural network for predicting the ratings.  First, we load the necessary packages."
   ]
  },
  {
   "cell_type": "code",
   "execution_count": 13,
   "metadata": {
    "id": "lPJfKgJNX1o0"
   },
   "outputs": [],
   "source": [
    "import tensorflow as tf\n",
    "\n",
    "from tensorflow.keras.layers import Input, Embedding, Dot, Reshape, Dense, Flatten, Add, Lambda\n",
    "from tensorflow.keras.models import Model\n",
    "import tensorflow.keras.backend as K\n",
    "from tensorflow.keras import regularizers\n",
    "from tensorflow.keras.optimizers import Adam, SGD, RMSprop"
   ]
  },
  {
   "cell_type": "markdown",
   "metadata": {
    "id": "OQgBFwZmX1o0"
   },
   "source": [
    "We can now create a neural network in Tensorflow as follows:\n",
    "\n",
    "*  Set the embedding dimension to `emb_dim=4`.  \n",
    "*  Let `userid_in` and `movieid_in` be the input user and movie indices.  These can be created in Tensorflow with `Input` layers with `shape = (1,)`. \n",
    "*  The user index generates a bias `user_bias`.  Use an `Embedding` layer with `output_dim=1` followed by a `Flatten` layer.  \n",
    "*  The user index also generates a weight `user_wt`.  Use a second `Embedding` layer with `output_dim=emb_dim` followed by a `Flatten` layer.  \n",
    "*  The movie index generates biases `movie_bias` and `movie_wt` similar to the user bias.\n",
    "*  We then make the rating prediction with `yhat = Dot(user_wt, movie_wt) + user_bias + movie_bias`. \n",
    "*  Optionally, you can add bias and weight regularization, although I found these did not help significantly.\n",
    "*  Set the model to `mod = Model([userid_in, movieid_in], yhat)`.\n",
    "\n",
    "Print a summary of the model `mod.summary()`. \n"
   ]
  },
  {
   "cell_type": "code",
   "execution_count": 14,
   "metadata": {
    "colab": {
     "base_uri": "https://localhost:8080/"
    },
    "id": "QM1HfhPlX1o1",
    "outputId": "f4a34706-3d74-46b8-e870-4cd434e72b49"
   },
   "outputs": [
    {
     "name": "stdout",
     "output_type": "stream",
     "text": [
      "Model: \"functional_1\"\n",
      "__________________________________________________________________________________________________\n",
      "Layer (type)                    Output Shape         Param #     Connected to                     \n",
      "==================================================================================================\n",
      "user (InputLayer)               [(None, 1)]          0                                            \n",
      "__________________________________________________________________________________________________\n",
      "movie (InputLayer)              [(None, 1)]          0                                            \n",
      "__________________________________________________________________________________________________\n",
      "user_wt0 (Embedding)            (None, 1, 4)         24164       user[0][0]                       \n",
      "__________________________________________________________________________________________________\n",
      "movie_wt0 (Embedding)           (None, 1, 4)         15812       movie[0][0]                      \n",
      "__________________________________________________________________________________________________\n",
      "user_wt (Flatten)               (None, 4)            0           user_wt0[0][0]                   \n",
      "__________________________________________________________________________________________________\n",
      "movie_wt (Flatten)              (None, 4)            0           movie_wt0[0][0]                  \n",
      "__________________________________________________________________________________________________\n",
      "movie_bias0 (Embedding)         (None, 1, 1)         3953        movie[0][0]                      \n",
      "__________________________________________________________________________________________________\n",
      "product (Dot)                   (None, 1)            0           user_wt[0][0]                    \n",
      "                                                                 movie_wt[0][0]                   \n",
      "__________________________________________________________________________________________________\n",
      "movie_bias (Flatten)            (None, 1)            0           movie_bias0[0][0]                \n",
      "__________________________________________________________________________________________________\n",
      "user_bias0 (Embedding)          (None, 1, 1)         6041        user[0][0]                       \n",
      "__________________________________________________________________________________________________\n",
      "yhat1 (Add)                     (None, 1)            0           product[0][0]                    \n",
      "                                                                 movie_bias[0][0]                 \n",
      "__________________________________________________________________________________________________\n",
      "user_bias (Flatten)             (None, 1)            0           user_bias0[0][0]                 \n",
      "__________________________________________________________________________________________________\n",
      "yhat (Add)                      (None, 1)            0           yhat1[0][0]                      \n",
      "                                                                 user_bias[0][0]                  \n",
      "==================================================================================================\n",
      "Total params: 49,970\n",
      "Trainable params: 49,970\n",
      "Non-trainable params: 0\n",
      "__________________________________________________________________________________________________\n"
     ]
    }
   ],
   "source": [
    "def create_mod(emb_dim, nuser, nmovie, bias_reg=0.0, wt_reg=0.0):\n",
    "\n",
    "  userid_in = Input(name='user', shape=(1,))\n",
    "  movieid_in = Input(name='movie', shape=(1,))\n",
    "\n",
    "  user_bias0 = Embedding(input_dim=nuser, output_dim=1, name='user_bias0', embeddings_regularizer=regularizers.l2(bias_reg))(userid_in)\n",
    "\n",
    "  user_bias = Flatten(name='user_bias')(user_bias0)\n",
    "  movie_bias0 = Embedding(input_dim=nmovie, output_dim=1, name='movie_bias0', embeddings_regularizer=regularizers.l2(bias_reg))(movieid_in)\n",
    "  movie_bias = Flatten(name='movie_bias')(movie_bias0)\n",
    "\n",
    "  if emb_dim > 0:\n",
    "    user_wt0 = Embedding(input_dim=nuser, output_dim=emb_dim, name='user_wt0', embeddings_regularizer=regularizers.l2(wt_reg))(userid_in)\n",
    "    user_wt = Flatten(name='user_wt')(user_wt0)\n",
    "\n",
    "    movie_wt0 = Embedding(input_dim=nmovie, output_dim=emb_dim, name='movie_wt0', embeddings_regularizer=regularizers.l2(wt_reg))(movieid_in)\n",
    "    movie_wt = Flatten(name='movie_wt')(movie_wt0)\n",
    "\n",
    "    yhat0 = Dot(name='product', axes=1)([user_wt, movie_wt])\n",
    "    yhat1 = Add(name='yhat1')([yhat0, movie_bias])\n",
    "    yhat = Add(name='yhat')([yhat1, user_bias])\n",
    "\n",
    "  else:\n",
    "    yhat = Add(name='yhat')([movie_bias, user_bias])\n",
    "\n",
    "  mod = Model([userid_in, movieid_in], yhat)\n",
    "  return mod\n",
    "\n",
    "K.clear_session()\n",
    "\n",
    "mod = create_mod(emb_dim=4, nuser=num_users, nmovie=num_movie)\n",
    "mod.summary()"
   ]
  },
  {
   "cell_type": "markdown",
   "metadata": {
    "id": "px-k34XdX1o1"
   },
   "source": [
    "Compile the model with `Adam` optimizer with a learning rate of `0.01` (I found these numbers to work out well).  Use the \n",
    "`'mean_absolute_error'` loss.  Then fit the model with 8 epochs.  Use a batch size of 1000.  "
   ]
  },
  {
   "cell_type": "code",
   "execution_count": 15,
   "metadata": {
    "colab": {
     "base_uri": "https://localhost:8080/"
    },
    "id": "SkJGA_OvX1o1",
    "outputId": "304824e7-3af2-4aa6-8289-1f5a318afdbc"
   },
   "outputs": [
    {
     "name": "stdout",
     "output_type": "stream",
     "text": [
      "Epoch 1/8\n"
     ]
    },
    {
     "name": "stderr",
     "output_type": "stream",
     "text": [
      "/opt/conda/lib/python3.8/site-packages/tensorflow/python/framework/indexed_slices.py:432: UserWarning: Converting sparse IndexedSlices to a dense Tensor of unknown shape. This may consume a large amount of memory.\n",
      "  warnings.warn(\n"
     ]
    },
    {
     "name": "stdout",
     "output_type": "stream",
     "text": [
      "751/751 [==============================] - 3s 4ms/step - loss: 1.1661 - val_loss: 0.7479\n",
      "Epoch 2/8\n",
      "751/751 [==============================] - 2s 2ms/step - loss: 0.7356 - val_loss: 0.7319\n",
      "Epoch 3/8\n",
      "751/751 [==============================] - 2s 2ms/step - loss: 0.7179 - val_loss: 0.7195\n",
      "Epoch 4/8\n",
      "751/751 [==============================] - 2s 2ms/step - loss: 0.7036 - val_loss: 0.7131\n",
      "Epoch 5/8\n",
      "751/751 [==============================] - 1s 2ms/step - loss: 0.6943 - val_loss: 0.7097\n",
      "Epoch 6/8\n",
      "751/751 [==============================] - 1s 2ms/step - loss: 0.6874 - val_loss: 0.7071\n",
      "Epoch 7/8\n",
      "751/751 [==============================] - 1s 2ms/step - loss: 0.6820 - val_loss: 0.7052\n",
      "Epoch 8/8\n",
      "751/751 [==============================] - 1s 2ms/step - loss: 0.6787 - val_loss: 0.7048\n"
     ]
    }
   ],
   "source": [
    "opt = Adam(lr=0.01)\n",
    "mod.compile(optimizer=opt, loss='mean_absolute_error')\n",
    "hist = mod.fit(Xtr, ytr, epochs=8, batch_size=1000, validation_data=(Xts, yts), verbose=1)"
   ]
  },
  {
   "cell_type": "markdown",
   "metadata": {
    "id": "O3qo-6NtX1o1"
   },
   "source": [
    "Print the training and test loss as a function of the epochs.  If you did it correctly the final test loss should be around  0.71 and the training loss should be 0.68.  This is a little better than the MAE you get just using the average movie rating."
   ]
  },
  {
   "cell_type": "code",
   "execution_count": 16,
   "metadata": {
    "colab": {
     "base_uri": "https://localhost:8080/",
     "height": 282
    },
    "id": "l_eNr45OX1o1",
    "outputId": "74191b74-436f-4196-e565-ca373dbe9153"
   },
   "outputs": [
    {
     "data": {
      "text/plain": [
       "<matplotlib.legend.Legend at 0x7f54788afac0>"
      ]
     },
     "execution_count": 16,
     "metadata": {},
     "output_type": "execute_result"
    },
    {
     "data": {
      "image/png": "[encoded data removed]",
      "text/plain": [
       "<Figure size 432x288 with 1 Axes>"
      ]
     },
     "metadata": {
      "needs_background": "light"
     },
     "output_type": "display_data"
    }
   ],
   "source": [
    "loss = hist.history['loss']\n",
    "val_loss = hist.history['val_loss']\n",
    "plt.plot(loss, 'o-')\n",
    "plt.plot(val_loss, 'o-')\n",
    "plt.grid()\n",
    "plt.legend(['Train Loss', 'Test Loss'])"
   ]
  },
  {
   "cell_type": "markdown",
   "metadata": {
    "id": "BnAtTWwzX1o1"
   },
   "source": [
    "## Making Predictions!\n",
    "\n",
    "Select a random user, `user_id`.  Then, for each movie index, use the model to predict the ratings. Set the predictions to `yhat`."
   ]
  },
  {
   "cell_type": "code",
   "execution_count": 17,
   "metadata": {
    "id": "XRnVl1ohX1o1"
   },
   "outputs": [],
   "source": [
    "user_id = np.random.randint(0, num_users, 1)\n",
    "movie_in = np.arange(num_movie)[:, None]\n",
    "user_in = np.tile(user_id, (num_movie,1))\n",
    "yhat = mod.predict([user_in, movie_in])"
   ]
  },
  {
   "cell_type": "markdown",
   "metadata": {
    "id": "x4H31r65X1o1"
   },
   "source": [
    "Print the names of the movies with the top 10 predicted ratings for the user as well as the average rating that those movies had.  You will see that the network may predict ratings above 5!  We could have avoided this by limiting the output."
   ]
  },
  {
   "cell_type": "code",
   "execution_count": 18,
   "metadata": {
    "colab": {
     "base_uri": "https://localhost:8080/"
    },
    "id": "WuPK8SalX1o1",
    "outputId": "c51c8cb1-7041-4533-e953-bac2896dce1c"
   },
   "outputs": [
    {
     "name": "stdout",
     "output_type": "stream",
     "text": [
      " Mamma Roma (1962)                                  Predicted ratings =  5.85 Avg rating =  4.50\n",
      " Year of the Horse (1997)                           Predicted ratings =  4.78 Avg rating =  5.00\n",
      " Six Ways to Sunday (1997)                          Predicted ratings =  4.75 Avg rating =  4.00\n",
      " Shawshank Redemption, The (1994)                   Predicted ratings =  4.74 Avg rating =  4.56\n",
      " Usual Suspects, The (1995)                         Predicted ratings =  4.71 Avg rating =  4.53\n",
      " Paralyzing Fear: The Story of Polio in America, A (1998) Predicted ratings =  4.69 Avg rating =  5.00\n",
      " American Beauty (1999)                             Predicted ratings =  4.65 Avg rating =  4.32\n",
      " Synthetic Pleasures (1995)                         Predicted ratings =  4.64 Avg rating =  3.67\n",
      " Sixth Sense, The (1999)                            Predicted ratings =  4.64 Avg rating =  4.40\n",
      " Aparajito (1956)                                   Predicted ratings =  4.64 Avg rating =  4.31\n"
     ]
    }
   ],
   "source": [
    "yhat = yhat.ravel()\n",
    "I = np.flipud(np.argsort(yhat))\n",
    "n = 10\n",
    "for i in range(n):\n",
    "  j = I[i]\n",
    "  movie_title = get_movie_title(j)\n",
    "  print(' %-50s Predicted ratings = %5.2f Avg rating = %5.2f' % (movie_title, yhat[j], ymean[j]))"
   ]
  },
  {
   "cell_type": "markdown",
   "metadata": {
    "id": "TopV_xOiX1o1"
   },
   "source": [
    "## Optimizing the Embedding Dimension  "
   ]
  },
  {
   "cell_type": "code",
   "execution_count": 19,
   "metadata": {
    "colab": {
     "base_uri": "https://localhost:8080/"
    },
    "id": "DzvitHYWX1o1",
    "outputId": "4955b600-93bf-4d24-fdd1-e398a92730c4"
   },
   "outputs": [
    {
     "name": "stdout",
     "output_type": "stream",
     "text": [
      "Dimension= 0 loss= 7.12290e-01 val_loss= 7.17767e-01\n",
      "Dimension= 1 loss= 6.99723e-01 val_loss= 7.07533e-01\n",
      "Dimension= 2 loss= 6.91083e-01 val_loss= 7.07209e-01\n",
      "Dimension= 3 loss= 6.81986e-01 val_loss= 7.04834e-01\n",
      "Dimension= 4 loss= 6.73971e-01 val_loss= 7.03633e-01\n",
      "Dimension= 5 loss= 6.68746e-01 val_loss= 7.06143e-01\n",
      "Dimension= 6 loss= 6.59873e-01 val_loss= 7.03855e-01\n",
      "Dimension= 7 loss= 6.57236e-01 val_loss= 7.06832e-01\n",
      "Dimension= 8 loss= 6.48430e-01 val_loss= 7.04127e-01\n"
     ]
    }
   ],
   "source": [
    "emb_dim_opt = np.arange(9)\n",
    "ntest = len(emb_dim_opt)\n",
    "epochs = 10\n",
    "hist_tot = []\n",
    "val_loss = np.zeros(ntest)\n",
    "loss = np.zeros(ntest)\n",
    "\n",
    "for i, emb_dim in enumerate(emb_dim_opt):\n",
    "  K.clear_session()\n",
    "\n",
    "  mod = create_mod(emb_dim=emb_dim, nuser=num_users, nmovie=num_movie)\n",
    "  opt = Adam(lr=0.01)\n",
    "  mod.compile(optimizer=opt, loss='mean_absolute_error')\n",
    "\n",
    "  hist = mod.fit(Xtr, ytr, epochs=epochs, batch_size=1000, verbose=0, validation_data=(Xts, yts))\n",
    "  hist_tot.append(hist.history)\n",
    "\n",
    "  val_loss[i] = hist.history['val_loss'][-1]\n",
    "  loss[i] = hist.history['loss'][-1]\n",
    "  print('Dimension= %d loss=%12.5e val_loss=%12.5e' %(emb_dim, loss[i], val_loss[i]))"
   ]
  },
  {
   "cell_type": "markdown",
   "metadata": {
    "id": "MRXFXqm_X1o1"
   },
   "source": [
    "Plot the training and test loss as a function of the embedding layer. We see we get a minimum with an embedding dimension around 4 or 5."
   ]
  },
  {
   "cell_type": "code",
   "execution_count": 20,
   "metadata": {
    "colab": {
     "base_uri": "https://localhost:8080/",
     "height": 297
    },
    "id": "mJV_oK2uX1o1",
    "outputId": "ed5da92f-dee3-465f-f3fa-a9b333cea60f"
   },
   "outputs": [
    {
     "data": {
      "text/plain": [
       "<matplotlib.legend.Legend at 0x7f54582b1f40>"
      ]
     },
     "execution_count": 20,
     "metadata": {},
     "output_type": "execute_result"
    },
    {
     "data": {
      "image/png": "[encoded data removed]",
      "text/plain": [
       "<Figure size 432x288 with 1 Axes>"
      ]
     },
     "metadata": {
      "needs_background": "light"
     },
     "output_type": "display_data"
    }
   ],
   "source": [
    "plt.plot(emb_dim_opt, loss, 'o-')\n",
    "plt.plot(emb_dim_opt, val_loss, 'o-')\n",
    "plt.xlabel('Embedding Dim')\n",
    "plt.ylabel('MAE')\n",
    "plt.grid()\n",
    "plt.legend(['Train', 'Test'])"
   ]
  },
  {
   "cell_type": "code",
   "execution_count": null,
   "metadata": {
    "id": "ANUVl6B0X1o1"
   },
   "outputs": [],
   "source": []
  }
 ],
 "metadata": {
  "accelerator": "GPU",
  "colab": {
   "name": "lab_movie_neural_partial_gc2505.ipynb",
   "provenance": []
  },
  "kernelspec": {
   "display_name": "Python 3",
   "language": "python",
   "name": "python3"
  },
  "language_info": {
   "codemirror_mode": {
    "name": "ipython",
    "version": 3
   },
   "file_extension": ".py",
   "mimetype": "text/x-python",
   "name": "python",
   "nbconvert_exporter": "python",
   "pygments_lexer": "ipython3",
   "version": "3.8.6"
  },
  "widgets": {
   "application/vnd.jupyter.widget-state+json": {
    "253bd0364b974c53a727a3920b2575cd": {
     "model_module": "@jupyter-widgets/controls",
     "model_name": "HTMLModel",
     "state": {
      "_dom_classes": [],
      "_model_module": "@jupyter-widgets/controls",
      "_model_module_version": "1.5.0",
      "_model_name": "HTMLModel",
      "_view_count": null,
      "_view_module": "@jupyter-widgets/controls",
      "_view_module_version": "1.5.0",
      "_view_name": "HTMLView",
      "description": "",
      "description_tooltip": null,
      "layout": "IPY_MODEL_45354805db814e05a289cad639e26a1a",
      "placeholder": "​",
      "style": "IPY_MODEL_47f85d0bbfda478bb2123f5c6bd10006",
      "value": " 5.64k/? [00:13&lt;00:00, 435kB/s]"
     }
    },
    "29662948164d47cc8e717c581139a695": {
     "model_module": "@jupyter-widgets/base",
     "model_name": "LayoutModel",
     "state": {
      "_model_module": "@jupyter-widgets/base",
      "_model_module_version": "1.2.0",
      "_model_name": "LayoutModel",
      "_view_count": null,
      "_view_module": "@jupyter-widgets/base",
      "_view_module_version": "1.2.0",
      "_view_name": "LayoutView",
      "align_content": null,
      "align_items": null,
      "align_self": null,
      "border": null,
      "bottom": null,
      "display": null,
      "flex": null,
      "flex_flow": null,
      "grid_area": null,
      "grid_auto_columns": null,
      "grid_auto_flow": null,
      "grid_auto_rows": null,
      "grid_column": null,
      "grid_gap": null,
      "grid_row": null,
      "grid_template_areas": null,
      "grid_template_columns": null,
      "grid_template_rows": null,
      "height": null,
      "justify_content": null,
      "justify_items": null,
      "left": null,
      "margin": null,
      "max_height": null,
      "max_width": null,
      "min_height": null,
      "min_width": null,
      "object_fit": null,
      "object_position": null,
      "order": null,
      "overflow": null,
      "overflow_x": null,
      "overflow_y": null,
      "padding": null,
      "right": null,
      "top": null,
      "visibility": null,
      "width": null
     }
    },
    "45354805db814e05a289cad639e26a1a": {
     "model_module": "@jupyter-widgets/base",
     "model_name": "LayoutModel",
     "state": {
      "_model_module": "@jupyter-widgets/base",
      "_model_module_version": "1.2.0",
      "_model_name": "LayoutModel",
      "_view_count": null,
      "_view_module": "@jupyter-widgets/base",
      "_view_module_version": "1.2.0",
      "_view_name": "LayoutView",
      "align_content": null,
      "align_items": null,
      "align_self": null,
      "border": null,
      "bottom": null,
      "display": null,
      "flex": null,
      "flex_flow": null,
      "grid_area": null,
      "grid_auto_columns": null,
      "grid_auto_flow": null,
      "grid_auto_rows": null,
      "grid_column": null,
      "grid_gap": null,
      "grid_row": null,
      "grid_template_areas": null,
      "grid_template_columns": null,
      "grid_template_rows": null,
      "height": null,
      "justify_content": null,
      "justify_items": null,
      "left": null,
      "margin": null,
      "max_height": null,
      "max_width": null,
      "min_height": null,
      "min_width": null,
      "object_fit": null,
      "object_position": null,
      "order": null,
      "overflow": null,
      "overflow_x": null,
      "overflow_y": null,
      "padding": null,
      "right": null,
      "top": null,
      "visibility": null,
      "width": null
     }
    },
    "47f85d0bbfda478bb2123f5c6bd10006": {
     "model_module": "@jupyter-widgets/controls",
     "model_name": "DescriptionStyleModel",
     "state": {
      "_model_module": "@jupyter-widgets/controls",
      "_model_module_version": "1.5.0",
      "_model_name": "DescriptionStyleModel",
      "_view_count": null,
      "_view_module": "@jupyter-widgets/base",
      "_view_module_version": "1.2.0",
      "_view_name": "StyleView",
      "description_width": ""
     }
    },
    "48acbcbecef1472e8a5ba6321e0528a5": {
     "model_module": "@jupyter-widgets/controls",
     "model_name": "HBoxModel",
     "state": {
      "_dom_classes": [],
      "_model_module": "@jupyter-widgets/controls",
      "_model_module_version": "1.5.0",
      "_model_name": "HBoxModel",
      "_view_count": null,
      "_view_module": "@jupyter-widgets/controls",
      "_view_module_version": "1.5.0",
      "_view_name": "HBoxView",
      "box_style": "",
      "children": [
       "IPY_MODEL_6393b20cbfa0408dbfdcebd46308e0bf",
       "IPY_MODEL_253bd0364b974c53a727a3920b2575cd"
      ],
      "layout": "IPY_MODEL_73f8fce374304b90b5b96818114151cd"
     }
    },
    "6393b20cbfa0408dbfdcebd46308e0bf": {
     "model_module": "@jupyter-widgets/controls",
     "model_name": "FloatProgressModel",
     "state": {
      "_dom_classes": [],
      "_model_module": "@jupyter-widgets/controls",
      "_model_module_version": "1.5.0",
      "_model_name": "FloatProgressModel",
      "_view_count": null,
      "_view_module": "@jupyter-widgets/controls",
      "_view_module_version": "1.5.0",
      "_view_name": "ProgressView",
      "bar_style": "success",
      "description": "",
      "description_tooltip": null,
      "layout": "IPY_MODEL_29662948164d47cc8e717c581139a695",
      "max": 5778,
      "min": 0,
      "orientation": "horizontal",
      "style": "IPY_MODEL_dba0613c674d47f08e8eac02f2166b8d",
      "value": 5778
     }
    },
    "73f8fce374304b90b5b96818114151cd": {
     "model_module": "@jupyter-widgets/base",
     "model_name": "LayoutModel",
     "state": {
      "_model_module": "@jupyter-widgets/base",
      "_model_module_version": "1.2.0",
      "_model_name": "LayoutModel",
      "_view_count": null,
      "_view_module": "@jupyter-widgets/base",
      "_view_module_version": "1.2.0",
      "_view_name": "LayoutView",
      "align_content": null,
      "align_items": null,
      "align_self": null,
      "border": null,
      "bottom": null,
      "display": null,
      "flex": null,
      "flex_flow": null,
      "grid_area": null,
      "grid_auto_columns": null,
      "grid_auto_flow": null,
      "grid_auto_rows": null,
      "grid_column": null,
      "grid_gap": null,
      "grid_row": null,
      "grid_template_areas": null,
      "grid_template_columns": null,
      "grid_template_rows": null,
      "height": null,
      "justify_content": null,
      "justify_items": null,
      "left": null,
      "margin": null,
      "max_height": null,
      "max_width": null,
      "min_height": null,
      "min_width": null,
      "object_fit": null,
      "object_position": null,
      "order": null,
      "overflow": null,
      "overflow_x": null,
      "overflow_y": null,
      "padding": null,
      "right": null,
      "top": null,
      "visibility": null,
      "width": null
     }
    },
    "dba0613c674d47f08e8eac02f2166b8d": {
     "model_module": "@jupyter-widgets/controls",
     "model_name": "ProgressStyleModel",
     "state": {
      "_model_module": "@jupyter-widgets/controls",
      "_model_module_version": "1.5.0",
      "_model_name": "ProgressStyleModel",
      "_view_count": null,
      "_view_module": "@jupyter-widgets/base",
      "_view_module_version": "1.2.0",
      "_view_name": "StyleView",
      "bar_color": null,
      "description_width": "initial"
     }
    }
   }
  }
 },
 "nbformat": 4,
 "nbformat_minor": 1
}
